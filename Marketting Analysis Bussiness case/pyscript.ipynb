{
 "cells": [
  {
   "cell_type": "code",
   "execution_count": 2,
   "id": "a98b933f",
   "metadata": {},
   "outputs": [
    {
     "name": "stdout",
     "output_type": "stream",
     "text": [
      "Requirement already satisfied: pandas in c:\\users\\pmls\\documents\\data analyst boot camp\\python\\venv\\lib\\site-packages (2.2.3)\n",
      "Collecting nltk\n",
      "  Downloading nltk-3.9.1-py3-none-any.whl.metadata (2.9 kB)\n",
      "Requirement already satisfied: pyodbc in c:\\users\\pmls\\documents\\data analyst boot camp\\python\\venv\\lib\\site-packages (5.2.0)\n",
      "Requirement already satisfied: sqlalchemy in c:\\users\\pmls\\documents\\data analyst boot camp\\python\\venv\\lib\\site-packages (2.0.41)\n",
      "Requirement already satisfied: numpy>=1.26.0 in c:\\users\\pmls\\documents\\data analyst boot camp\\python\\venv\\lib\\site-packages (from pandas) (2.1.3)\n",
      "Requirement already satisfied: python-dateutil>=2.8.2 in c:\\users\\pmls\\documents\\data analyst boot camp\\python\\venv\\lib\\site-packages (from pandas) (2.9.0.post0)\n",
      "Requirement already satisfied: pytz>=2020.1 in c:\\users\\pmls\\documents\\data analyst boot camp\\python\\venv\\lib\\site-packages (from pandas) (2025.2)\n",
      "Requirement already satisfied: tzdata>=2022.7 in c:\\users\\pmls\\documents\\data analyst boot camp\\python\\venv\\lib\\site-packages (from pandas) (2025.2)\n",
      "Collecting click (from nltk)\n",
      "  Downloading click-8.2.1-py3-none-any.whl.metadata (2.5 kB)\n",
      "Requirement already satisfied: joblib in c:\\users\\pmls\\documents\\data analyst boot camp\\python\\venv\\lib\\site-packages (from nltk) (1.4.2)\n",
      "Collecting regex>=2021.8.3 (from nltk)\n",
      "  Downloading regex-2024.11.6-cp312-cp312-win_amd64.whl.metadata (41 kB)\n",
      "Requirement already satisfied: tqdm in c:\\users\\pmls\\documents\\data analyst boot camp\\python\\venv\\lib\\site-packages (from nltk) (4.67.1)\n",
      "Requirement already satisfied: greenlet>=1 in c:\\users\\pmls\\documents\\data analyst boot camp\\python\\venv\\lib\\site-packages (from sqlalchemy) (3.2.2)\n",
      "Requirement already satisfied: typing-extensions>=4.6.0 in c:\\users\\pmls\\documents\\data analyst boot camp\\python\\venv\\lib\\site-packages (from sqlalchemy) (4.13.2)\n",
      "Requirement already satisfied: six>=1.5 in c:\\users\\pmls\\documents\\data analyst boot camp\\python\\venv\\lib\\site-packages (from python-dateutil>=2.8.2->pandas) (1.17.0)\n",
      "Requirement already satisfied: colorama in c:\\users\\pmls\\documents\\data analyst boot camp\\python\\venv\\lib\\site-packages (from click->nltk) (0.4.6)\n",
      "Downloading nltk-3.9.1-py3-none-any.whl (1.5 MB)\n",
      "   ---------------------------------------- 0.0/1.5 MB ? eta -:--:--\n",
      "   ---------------------------------------- 1.5/1.5 MB 8.9 MB/s eta 0:00:00\n",
      "Downloading regex-2024.11.6-cp312-cp312-win_amd64.whl (273 kB)\n",
      "Downloading click-8.2.1-py3-none-any.whl (102 kB)\n",
      "Installing collected packages: regex, click, nltk\n",
      "Successfully installed click-8.2.1 nltk-3.9.1 regex-2024.11.6\n"
     ]
    }
   ],
   "source": [
    "!pip install pandas nltk pyodbc sqlalchemy"
   ]
  },
  {
   "cell_type": "code",
   "execution_count": 2,
   "id": "e398eae2",
   "metadata": {},
   "outputs": [],
   "source": [
    "import pandas as pd\n",
    "import pyodbc\n",
    "import nltk \n",
    "from  nltk.sentiment.vader import SentimentIntensityAnalyzer\n"
   ]
  },
  {
   "cell_type": "code",
   "execution_count": 3,
   "id": "c54e9373",
   "metadata": {},
   "outputs": [
    {
     "name": "stderr",
     "output_type": "stream",
     "text": [
      "[nltk_data] Downloading package vader_lexicon to\n",
      "[nltk_data]     C:\\Users\\PMLS\\AppData\\Roaming\\nltk_data...\n",
      "[nltk_data]   Package vader_lexicon is already up-to-date!\n"
     ]
    },
    {
     "data": {
      "text/plain": [
       "True"
      ]
     },
     "execution_count": 3,
     "metadata": {},
     "output_type": "execute_result"
    }
   ],
   "source": [
    "# Download the VADER lexicon for sentiment analysis if not already present.\n",
    "nltk.download('vader_lexicon')"
   ]
  },
  {
   "cell_type": "code",
   "execution_count": 5,
   "id": "dbc87f27",
   "metadata": {},
   "outputs": [
    {
     "name": "stdout",
     "output_type": "stream",
     "text": [
      "Requirement already satisfied: openpyxl in c:\\users\\pmls\\documents\\data analyst boot camp\\python\\venv\\lib\\site-packages (3.1.5)\n",
      "Requirement already satisfied: et-xmlfile in c:\\users\\pmls\\documents\\data analyst boot camp\\python\\venv\\lib\\site-packages (from openpyxl) (2.0.0)\n",
      "Note: you may need to restart the kernel to use updated packages.\n"
     ]
    }
   ],
   "source": [
    "pip install openpyxl\n"
   ]
  },
  {
   "cell_type": "code",
   "execution_count": 7,
   "id": "362be9e7",
   "metadata": {},
   "outputs": [
    {
     "name": "stderr",
     "output_type": "stream",
     "text": [
      "C:\\Users\\PMLS\\AppData\\Local\\Temp\\ipykernel_18440\\3005130541.py:15: UserWarning: pandas only supports SQLAlchemy connectable (engine/connection) or database string URI or sqlite3 DBAPI2 connection. Other DBAPI2 objects are not tested. Please consider using SQLAlchemy.\n",
      "  df=pd.read_sql(query,conn)\n"
     ]
    }
   ],
   "source": [
    "#fetch data from sql\n",
    "sia=SentimentIntensityAnalyzer()\n",
    "def fetch_data_from_sql():\n",
    "    # Define the connection string with parameters for the database connection\n",
    "    conn_str = (\n",
    "        \"Driver={ODBC Driver 17 for SQL Server};\"  \n",
    "        \"Server=DESKTOP-8BL3MIG;\"  \n",
    "        \"Database=PortfolioProject_MarketingAnalytics;\"  \n",
    "        \"Trusted_Connection=yes;\"  \n",
    "    )\n",
    "    conn=pyodbc.connect(conn_str)\n",
    "\n",
    "    query='select * from customer_reviews'\n",
    "\n",
    "    df=pd.read_sql(query,conn)\n",
    "\n",
    "    conn.close()\n",
    "\n",
    "    return df\n",
    "\n",
    "#fetch data from sql database\n",
    "customer_reviews_df=fetch_data_from_sql()\n",
    "\n",
    "sia=SentimentIntensityAnalyzer()\n",
    "\n",
    "#sentiment analysis based on review\n",
    "def sentiment_score_calculation(review):\n",
    "    sentiment=sia.polarity_scores(review)\n",
    "    return sentiment['compound']\n",
    "\n",
    "def categorize_sentiment(score, rating):\n",
    "    # Use both the text sentiment score and the numerical rating to determine sentiment category\n",
    "    if score > 0.05:  # Positive sentiment score\n",
    "        if rating >= 4:\n",
    "            return 'Positive'  # High rating and positive sentiment\n",
    "        elif rating == 3:\n",
    "            return 'Mixed Positive'  # Neutral rating but positive sentiment\n",
    "        else:\n",
    "            return 'Mixed Negative'  # Low rating but positive sentiment\n",
    "    elif score < -0.05:  # Negative sentiment score\n",
    "        if rating <= 2:\n",
    "            return 'Negative'  # Low rating and negative sentiment\n",
    "        elif rating == 3:\n",
    "            return 'Mixed Negative'  # Neutral rating but negative sentiment\n",
    "        else:\n",
    "            return 'Mixed Positive'  # High rating but negative sentiment\n",
    "    else:  # Neutral sentiment score\n",
    "        if rating >= 4:\n",
    "            return 'Positive'  # High rating with neutral sentiment\n",
    "        elif rating <= 2:\n",
    "            return 'Negative'  # Low rating with neutral sentiment\n",
    "        else:\n",
    "            return 'Neutral'  # Neutral rating and neutral sentiment\n",
    "\n",
    "# Define a function to bucket sentiment scores into text ranges\n",
    "def sentiment_bucket(score):\n",
    "    if score >= 0.5:\n",
    "        return '0.5 to 1.0'  # Strongly positive sentiment\n",
    "    elif 0.0 <= score < 0.5:\n",
    "        return '0.0 to 0.49'  # Mildly positive sentiment\n",
    "    elif -0.5 <= score < 0.0:\n",
    "        return '-0.49 to 0.0'  # Mildly negative sentiment\n",
    "    else:\n",
    "        return '-1.0 to -0.5'  # Strongly negative sentiment\n",
    "\n",
    "#3 columns\n",
    "customer_reviews_df['SentimentScore']=customer_reviews_df['ReviewText'].apply(sentiment_score_calculation)\n",
    "\n",
    "customer_reviews_df['SentimentCategory']=customer_reviews_df.apply(\n",
    "    lambda row: categorize_sentiment(row['SentimentScore'], row['Rating']), axis=1)\n",
    "\n",
    "customer_reviews_df['SentimentBucket'] = customer_reviews_df['SentimentScore'].apply(sentiment_bucket)\n",
    "\n",
    "customer_reviews_df.head()\n",
    "\n",
    "\n",
    "customer_reviews_df.to_csv('customer_reviews_with_sentiment.csv',index=False)\n",
    "\n",
    "\n",
    "\n",
    "\n",
    "\n",
    "\n",
    "\n",
    "\n"
   ]
  },
  {
   "cell_type": "code",
   "execution_count": null,
   "id": "eafaeeea",
   "metadata": {},
   "outputs": [],
   "source": []
  },
  {
   "cell_type": "code",
   "execution_count": null,
   "id": "d5c49b3a",
   "metadata": {},
   "outputs": [],
   "source": []
  },
  {
   "cell_type": "code",
   "execution_count": null,
   "id": "09a5cc90",
   "metadata": {},
   "outputs": [],
   "source": []
  },
  {
   "cell_type": "code",
   "execution_count": null,
   "id": "73d1f971",
   "metadata": {},
   "outputs": [],
   "source": []
  }
 ],
 "metadata": {
  "kernelspec": {
   "display_name": "Python 3",
   "language": "python",
   "name": "python3"
  },
  "language_info": {
   "codemirror_mode": {
    "name": "ipython",
    "version": 3
   },
   "file_extension": ".py",
   "mimetype": "text/x-python",
   "name": "python",
   "nbconvert_exporter": "python",
   "pygments_lexer": "ipython3",
   "version": "3.12.0"
  }
 },
 "nbformat": 4,
 "nbformat_minor": 5
}
